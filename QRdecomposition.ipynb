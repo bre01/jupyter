{
 "cells": [
  {
   "cell_type": "code",
   "execution_count": 24,
   "metadata": {},
   "outputs": [
    {
     "data": {
      "text/latex": [
       "$\\displaystyle \\left[\\begin{matrix}- \\frac{4 \\sqrt{17}}{17} & - \\frac{\\sqrt{17}}{17}\\\\- \\frac{\\sqrt{17}}{17} & \\frac{4 \\sqrt{17}}{17}\\end{matrix}\\right]$"
      ],
      "text/plain": [
       "Matrix([\n",
       "[-4*sqrt(17)/17,  -sqrt(17)/17],\n",
       "[  -sqrt(17)/17, 4*sqrt(17)/17]])"
      ]
     },
     "execution_count": 24,
     "metadata": {},
     "output_type": "execute_result"
    }
   ],
   "source": [
    "from sympy import *\n",
    "def Project(A,v):\n",
    "   #A could be a martix or vector\n",
    "    re=(A*A.transpose())/((A.transpose()*A).det())*v\n",
    "    return re \n",
    "def Orthogonal(A):\n",
    "   # takes a martix and get it's standard orthogonal basis\n",
    "   # assume it's 2D  \n",
    "\n",
    "   c1=A[:,0]\n",
    "   c1=GetStandard(c1)\n",
    "   c2=A[:,1]\n",
    "   c2=c2-Project(c1,c2)\n",
    "   c2=GetStandard(c2)\n",
    "   #print(c1)\n",
    "  #print(c2)\n",
    "   m=Matrix()\n",
    "   m=m.col_insert(0,c1)\n",
    "   m=m.col_insert(1,c2)\n",
    "   return m\n",
    "   \n",
    "def GetStandard(c1):\n",
    "    return c1/(sqrt(c1.dot(c1)))\n",
    "\n",
    "v2=Matrix([[1,0],[0,1],[0,0]])\n",
    "v3=Matrix([1,2,3])\n",
    "v4=Matrix([[1,2],[3,4]])\n",
    "v5=Matrix([[-4,2],[-1,7]])\n",
    "q,r=v5.QRdecomposition()\n",
    "\n",
    "h=Orthogonal(v5)\n",
    "h\n",
    "\n",
    "\n"
   ]
  },
  {
   "cell_type": "code",
   "execution_count": 25,
   "metadata": {},
   "outputs": [
    {
     "data": {
      "text/latex": [
       "$\\displaystyle \\left[\\begin{matrix}- \\frac{4 \\sqrt{17}}{17} & - \\frac{\\sqrt{17}}{17}\\\\- \\frac{\\sqrt{17}}{17} & \\frac{4 \\sqrt{17}}{17}\\end{matrix}\\right]$"
      ],
      "text/plain": [
       "Matrix([\n",
       "[-4*sqrt(17)/17,  -sqrt(17)/17],\n",
       "[  -sqrt(17)/17, 4*sqrt(17)/17]])"
      ]
     },
     "execution_count": 25,
     "metadata": {},
     "output_type": "execute_result"
    }
   ],
   "source": [
    "q"
   ]
  },
  {
   "cell_type": "code",
   "execution_count": null,
   "metadata": {},
   "outputs": [],
   "source": []
  }
 ],
 "metadata": {
  "kernelspec": {
   "display_name": "matrix",
   "language": "python",
   "name": "python3"
  },
  "language_info": {
   "codemirror_mode": {
    "name": "ipython",
    "version": 3
   },
   "file_extension": ".py",
   "mimetype": "text/x-python",
   "name": "python",
   "nbconvert_exporter": "python",
   "pygments_lexer": "ipython3",
   "version": "3.11.4"
  },
  "orig_nbformat": 4
 },
 "nbformat": 4,
 "nbformat_minor": 2
}
