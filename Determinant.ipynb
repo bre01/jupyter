{
 "cells": [
  {
   "cell_type": "markdown",
   "metadata": {},
   "source": [
    "matrix is invertable when Det is not zero\n",
    "so if det is zero, the rank is full\n",
    "and it's not invertable ( in other words, the matrix is s singular )\n",
    "\n",
    "properties\n",
    "1.*** the det of identity is 1 ***\n",
    "2.*** exhanging rows  reverse the sign of the determiant ***\n",
    "  *** permutation matrix is 1 or -1 depends on the time of permutation ***\n",
    "|a b| \n",
    "|c d|= ad-bc\n",
    "\n",
    "3a. multipy one row by a number t, the factor t comes out,\n",
    "\n",
    "4. 2 equal rows => det =0\n"
   ]
  },
  {
   "cell_type": "markdown",
   "metadata": {},
   "source": []
  }
 ],
 "metadata": {
  "kernelspec": {
   "display_name": "matrix",
   "language": "python",
   "name": "python3"
  },
  "language_info": {
   "name": "python",
   "version": "3.11.4"
  },
  "orig_nbformat": 4
 },
 "nbformat": 4,
 "nbformat_minor": 2
}
